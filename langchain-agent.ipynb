{
 "cells": [
  {
   "cell_type": "code",
   "execution_count": 2,
   "id": "034df8b6",
   "metadata": {},
   "outputs": [
    {
     "name": "stdout",
     "output_type": "stream",
     "text": [
      "\u001b[33mWARNING: Error parsing dependencies of omegaconf: .* suffix can only be used with `==` or `!=` operators\n",
      "    PyYAML (>=5.1.*)\n",
      "            ~~~~~~^\u001b[0m\u001b[33m\n",
      "\u001b[0mNote: you may need to restart the kernel to use updated packages.\n"
     ]
    }
   ],
   "source": [
    "pip install langchain-core langgraph>0.2.27"
   ]
  },
  {
   "cell_type": "code",
   "execution_count": 4,
   "id": "d21f0173",
   "metadata": {},
   "outputs": [
    {
     "name": "stdout",
     "output_type": "stream",
     "text": [
      "Collecting langchain-anthropic\n",
      "  Downloading langchain_anthropic-0.3.14-py3-none-any.whl.metadata (1.9 kB)\n",
      "Collecting anthropic<1,>=0.52.0 (from langchain-anthropic)\n",
      "  Downloading anthropic-0.52.1-py3-none-any.whl.metadata (25 kB)\n",
      "Collecting langchain-core<1.0.0,>=0.3.62 (from langchain-anthropic)\n",
      "  Downloading langchain_core-0.3.63-py3-none-any.whl.metadata (5.8 kB)\n",
      "Requirement already satisfied: pydantic<3.0.0,>=2.7.4 in /Users/irisliu/anaconda3/lib/python3.10/site-packages (from langchain-anthropic) (2.11.4)\n",
      "Requirement already satisfied: anyio<5,>=3.5.0 in /Users/irisliu/anaconda3/lib/python3.10/site-packages (from anthropic<1,>=0.52.0->langchain-anthropic) (3.5.0)\n",
      "Requirement already satisfied: distro<2,>=1.7.0 in /Users/irisliu/anaconda3/lib/python3.10/site-packages (from anthropic<1,>=0.52.0->langchain-anthropic) (1.9.0)\n",
      "Requirement already satisfied: httpx<1,>=0.25.0 in /Users/irisliu/anaconda3/lib/python3.10/site-packages (from anthropic<1,>=0.52.0->langchain-anthropic) (0.26.0)\n",
      "Requirement already satisfied: jiter<1,>=0.4.0 in /Users/irisliu/anaconda3/lib/python3.10/site-packages (from anthropic<1,>=0.52.0->langchain-anthropic) (0.10.0)\n",
      "Requirement already satisfied: sniffio in /Users/irisliu/anaconda3/lib/python3.10/site-packages (from anthropic<1,>=0.52.0->langchain-anthropic) (1.2.0)\n",
      "Requirement already satisfied: typing-extensions<5,>=4.10 in /Users/irisliu/anaconda3/lib/python3.10/site-packages (from anthropic<1,>=0.52.0->langchain-anthropic) (4.13.2)\n",
      "Requirement already satisfied: idna>=2.8 in /Users/irisliu/anaconda3/lib/python3.10/site-packages (from anyio<5,>=3.5.0->anthropic<1,>=0.52.0->langchain-anthropic) (3.4)\n",
      "Requirement already satisfied: certifi in /Users/irisliu/anaconda3/lib/python3.10/site-packages (from httpx<1,>=0.25.0->anthropic<1,>=0.52.0->langchain-anthropic) (2022.12.7)\n",
      "Requirement already satisfied: httpcore==1.* in /Users/irisliu/anaconda3/lib/python3.10/site-packages (from httpx<1,>=0.25.0->anthropic<1,>=0.52.0->langchain-anthropic) (1.0.3)\n",
      "Requirement already satisfied: h11<0.15,>=0.13 in /Users/irisliu/anaconda3/lib/python3.10/site-packages (from httpcore==1.*->httpx<1,>=0.25.0->anthropic<1,>=0.52.0->langchain-anthropic) (0.14.0)\n",
      "Requirement already satisfied: langsmith<0.4,>=0.1.126 in /Users/irisliu/anaconda3/lib/python3.10/site-packages (from langchain-core<1.0.0,>=0.3.62->langchain-anthropic) (0.3.42)\n",
      "Requirement already satisfied: tenacity!=8.4.0,<10.0.0,>=8.1.0 in /Users/irisliu/anaconda3/lib/python3.10/site-packages (from langchain-core<1.0.0,>=0.3.62->langchain-anthropic) (8.2.3)\n",
      "Requirement already satisfied: jsonpatch<2.0,>=1.33 in /Users/irisliu/anaconda3/lib/python3.10/site-packages (from langchain-core<1.0.0,>=0.3.62->langchain-anthropic) (1.33)\n",
      "Requirement already satisfied: PyYAML>=5.3 in /Users/irisliu/anaconda3/lib/python3.10/site-packages (from langchain-core<1.0.0,>=0.3.62->langchain-anthropic) (6.0)\n",
      "Requirement already satisfied: packaging<25,>=23.2 in /Users/irisliu/anaconda3/lib/python3.10/site-packages (from langchain-core<1.0.0,>=0.3.62->langchain-anthropic) (23.2)\n",
      "Requirement already satisfied: jsonpointer>=1.9 in /Users/irisliu/anaconda3/lib/python3.10/site-packages (from jsonpatch<2.0,>=1.33->langchain-core<1.0.0,>=0.3.62->langchain-anthropic) (2.1)\n",
      "Requirement already satisfied: orjson<4.0.0,>=3.9.14 in /Users/irisliu/anaconda3/lib/python3.10/site-packages (from langsmith<0.4,>=0.1.126->langchain-core<1.0.0,>=0.3.62->langchain-anthropic) (3.10.18)\n",
      "Requirement already satisfied: requests<3,>=2 in /Users/irisliu/anaconda3/lib/python3.10/site-packages (from langsmith<0.4,>=0.1.126->langchain-core<1.0.0,>=0.3.62->langchain-anthropic) (2.28.1)\n",
      "Requirement already satisfied: requests-toolbelt<2.0.0,>=1.0.0 in /Users/irisliu/anaconda3/lib/python3.10/site-packages (from langsmith<0.4,>=0.1.126->langchain-core<1.0.0,>=0.3.62->langchain-anthropic) (1.0.0)\n",
      "Requirement already satisfied: zstandard<0.24.0,>=0.23.0 in /Users/irisliu/anaconda3/lib/python3.10/site-packages (from langsmith<0.4,>=0.1.126->langchain-core<1.0.0,>=0.3.62->langchain-anthropic) (0.23.0)\n",
      "Requirement already satisfied: annotated-types>=0.6.0 in /Users/irisliu/anaconda3/lib/python3.10/site-packages (from pydantic<3.0.0,>=2.7.4->langchain-anthropic) (0.7.0)\n",
      "Requirement already satisfied: pydantic-core==2.33.2 in /Users/irisliu/anaconda3/lib/python3.10/site-packages (from pydantic<3.0.0,>=2.7.4->langchain-anthropic) (2.33.2)\n",
      "Requirement already satisfied: typing-inspection>=0.4.0 in /Users/irisliu/anaconda3/lib/python3.10/site-packages (from pydantic<3.0.0,>=2.7.4->langchain-anthropic) (0.4.0)\n",
      "Requirement already satisfied: charset-normalizer<3,>=2 in /Users/irisliu/anaconda3/lib/python3.10/site-packages (from requests<3,>=2->langsmith<0.4,>=0.1.126->langchain-core<1.0.0,>=0.3.62->langchain-anthropic) (2.0.4)\n",
      "Requirement already satisfied: urllib3<1.27,>=1.21.1 in /Users/irisliu/anaconda3/lib/python3.10/site-packages (from requests<3,>=2->langsmith<0.4,>=0.1.126->langchain-core<1.0.0,>=0.3.62->langchain-anthropic) (1.26.14)\n",
      "Downloading langchain_anthropic-0.3.14-py3-none-any.whl (27 kB)\n",
      "Downloading anthropic-0.52.1-py3-none-any.whl (286 kB)\n",
      "Downloading langchain_core-0.3.63-py3-none-any.whl (438 kB)\n",
      "\u001b[33mWARNING: Error parsing dependencies of omegaconf: .* suffix can only be used with `==` or `!=` operators\n",
      "    PyYAML (>=5.1.*)\n",
      "            ~~~~~~^\u001b[0m\u001b[33m\n",
      "\u001b[0mInstalling collected packages: anthropic, langchain-core, langchain-anthropic\n",
      "\u001b[2K  Attempting uninstall: langchain-core━━━━━━━━━━\u001b[0m \u001b[32m0/3\u001b[0m [anthropic]\n",
      "\u001b[2K    Found existing installation: langchain-core 0.3.600/3\u001b[0m [anthropic]\n",
      "\u001b[2K    Uninstalling langchain-core-0.3.60:━━━━━\u001b[0m \u001b[32m0/3\u001b[0m [anthropic]\n",
      "\u001b[2K      Successfully uninstalled langchain-core-0.3.602m0/3\u001b[0m [anthropic]\n",
      "\u001b[2K   \u001b[90m━━━━━━━━━━━━━━━━━━━━━━━━━━━━━━━━━━━━━━━━\u001b[0m \u001b[32m3/3\u001b[0m [langchain-anthropic]ngchain-anthropic]\n",
      "\u001b[1A\u001b[2KSuccessfully installed anthropic-0.52.1 langchain-anthropic-0.3.14 langchain-core-0.3.63\n",
      "Note: you may need to restart the kernel to use updated packages.\n"
     ]
    }
   ],
   "source": [
    "pip install -U langchain-anthropic"
   ]
  },
  {
   "cell_type": "code",
   "execution_count": 6,
   "id": "b546fa00",
   "metadata": {},
   "outputs": [
    {
     "name": "stdout",
     "output_type": "stream",
     "text": [
      "Requirement already satisfied: langchain-community in /Users/irisliu/anaconda3/lib/python3.10/site-packages (0.3.24)\n",
      "Requirement already satisfied: langgraph in /Users/irisliu/anaconda3/lib/python3.10/site-packages (0.4.7)\n",
      "Requirement already satisfied: langchain-anthropic in /Users/irisliu/anaconda3/lib/python3.10/site-packages (0.3.14)\n",
      "Collecting tavily-python\n",
      "  Downloading tavily_python-0.7.3-py3-none-any.whl.metadata (7.0 kB)\n",
      "Collecting langgraph-checkpoint-sqlite\n",
      "  Downloading langgraph_checkpoint_sqlite-2.0.10-py3-none-any.whl.metadata (2.7 kB)\n",
      "Requirement already satisfied: langchain-core<1.0.0,>=0.3.59 in /Users/irisliu/anaconda3/lib/python3.10/site-packages (from langchain-community) (0.3.63)\n",
      "Requirement already satisfied: langchain<1.0.0,>=0.3.25 in /Users/irisliu/anaconda3/lib/python3.10/site-packages (from langchain-community) (0.3.25)\n",
      "Requirement already satisfied: SQLAlchemy<3,>=1.4 in /Users/irisliu/anaconda3/lib/python3.10/site-packages (from langchain-community) (1.4.39)\n",
      "Requirement already satisfied: requests<3,>=2 in /Users/irisliu/anaconda3/lib/python3.10/site-packages (from langchain-community) (2.28.1)\n",
      "Requirement already satisfied: PyYAML>=5.3 in /Users/irisliu/anaconda3/lib/python3.10/site-packages (from langchain-community) (6.0)\n",
      "Requirement already satisfied: aiohttp<4.0.0,>=3.8.3 in /Users/irisliu/anaconda3/lib/python3.10/site-packages (from langchain-community) (3.8.4)\n",
      "Requirement already satisfied: tenacity!=8.4.0,<10,>=8.1.0 in /Users/irisliu/anaconda3/lib/python3.10/site-packages (from langchain-community) (8.2.3)\n",
      "Requirement already satisfied: dataclasses-json<0.7,>=0.5.7 in /Users/irisliu/anaconda3/lib/python3.10/site-packages (from langchain-community) (0.5.14)\n",
      "Requirement already satisfied: pydantic-settings<3.0.0,>=2.4.0 in /Users/irisliu/anaconda3/lib/python3.10/site-packages (from langchain-community) (2.9.1)\n",
      "Requirement already satisfied: langsmith<0.4,>=0.1.125 in /Users/irisliu/anaconda3/lib/python3.10/site-packages (from langchain-community) (0.3.42)\n",
      "Requirement already satisfied: httpx-sse<1.0.0,>=0.4.0 in /Users/irisliu/anaconda3/lib/python3.10/site-packages (from langchain-community) (0.4.0)\n",
      "Requirement already satisfied: numpy>=1.26.2 in /Users/irisliu/anaconda3/lib/python3.10/site-packages (from langchain-community) (2.2.6)\n",
      "Requirement already satisfied: attrs>=17.3.0 in /Users/irisliu/anaconda3/lib/python3.10/site-packages (from aiohttp<4.0.0,>=3.8.3->langchain-community) (22.1.0)\n",
      "Requirement already satisfied: charset-normalizer<4.0,>=2.0 in /Users/irisliu/anaconda3/lib/python3.10/site-packages (from aiohttp<4.0.0,>=3.8.3->langchain-community) (2.0.4)\n",
      "Requirement already satisfied: multidict<7.0,>=4.5 in /Users/irisliu/anaconda3/lib/python3.10/site-packages (from aiohttp<4.0.0,>=3.8.3->langchain-community) (6.0.4)\n",
      "Requirement already satisfied: async-timeout<5.0,>=4.0.0a3 in /Users/irisliu/anaconda3/lib/python3.10/site-packages (from aiohttp<4.0.0,>=3.8.3->langchain-community) (4.0.2)\n",
      "Requirement already satisfied: yarl<2.0,>=1.0 in /Users/irisliu/anaconda3/lib/python3.10/site-packages (from aiohttp<4.0.0,>=3.8.3->langchain-community) (1.9.2)\n",
      "Requirement already satisfied: frozenlist>=1.1.1 in /Users/irisliu/anaconda3/lib/python3.10/site-packages (from aiohttp<4.0.0,>=3.8.3->langchain-community) (1.3.3)\n",
      "Requirement already satisfied: aiosignal>=1.1.2 in /Users/irisliu/anaconda3/lib/python3.10/site-packages (from aiohttp<4.0.0,>=3.8.3->langchain-community) (1.3.1)\n",
      "Requirement already satisfied: marshmallow<4.0.0,>=3.18.0 in /Users/irisliu/anaconda3/lib/python3.10/site-packages (from dataclasses-json<0.7,>=0.5.7->langchain-community) (3.20.1)\n",
      "Requirement already satisfied: typing-inspect<1,>=0.4.0 in /Users/irisliu/anaconda3/lib/python3.10/site-packages (from dataclasses-json<0.7,>=0.5.7->langchain-community) (0.9.0)\n",
      "Requirement already satisfied: langchain-text-splitters<1.0.0,>=0.3.8 in /Users/irisliu/anaconda3/lib/python3.10/site-packages (from langchain<1.0.0,>=0.3.25->langchain-community) (0.3.8)\n",
      "Requirement already satisfied: pydantic<3.0.0,>=2.7.4 in /Users/irisliu/anaconda3/lib/python3.10/site-packages (from langchain<1.0.0,>=0.3.25->langchain-community) (2.11.4)\n",
      "Requirement already satisfied: jsonpatch<2.0,>=1.33 in /Users/irisliu/anaconda3/lib/python3.10/site-packages (from langchain-core<1.0.0,>=0.3.59->langchain-community) (1.33)\n",
      "Requirement already satisfied: packaging<25,>=23.2 in /Users/irisliu/anaconda3/lib/python3.10/site-packages (from langchain-core<1.0.0,>=0.3.59->langchain-community) (23.2)\n",
      "Requirement already satisfied: typing-extensions>=4.7 in /Users/irisliu/anaconda3/lib/python3.10/site-packages (from langchain-core<1.0.0,>=0.3.59->langchain-community) (4.13.2)\n",
      "Requirement already satisfied: jsonpointer>=1.9 in /Users/irisliu/anaconda3/lib/python3.10/site-packages (from jsonpatch<2.0,>=1.33->langchain-core<1.0.0,>=0.3.59->langchain-community) (2.1)\n",
      "Requirement already satisfied: httpx<1,>=0.23.0 in /Users/irisliu/anaconda3/lib/python3.10/site-packages (from langsmith<0.4,>=0.1.125->langchain-community) (0.26.0)\n",
      "Requirement already satisfied: orjson<4.0.0,>=3.9.14 in /Users/irisliu/anaconda3/lib/python3.10/site-packages (from langsmith<0.4,>=0.1.125->langchain-community) (3.10.18)\n",
      "Requirement already satisfied: requests-toolbelt<2.0.0,>=1.0.0 in /Users/irisliu/anaconda3/lib/python3.10/site-packages (from langsmith<0.4,>=0.1.125->langchain-community) (1.0.0)\n",
      "Requirement already satisfied: zstandard<0.24.0,>=0.23.0 in /Users/irisliu/anaconda3/lib/python3.10/site-packages (from langsmith<0.4,>=0.1.125->langchain-community) (0.23.0)\n",
      "Requirement already satisfied: anyio in /Users/irisliu/anaconda3/lib/python3.10/site-packages (from httpx<1,>=0.23.0->langsmith<0.4,>=0.1.125->langchain-community) (3.5.0)\n",
      "Requirement already satisfied: certifi in /Users/irisliu/anaconda3/lib/python3.10/site-packages (from httpx<1,>=0.23.0->langsmith<0.4,>=0.1.125->langchain-community) (2022.12.7)\n",
      "Requirement already satisfied: httpcore==1.* in /Users/irisliu/anaconda3/lib/python3.10/site-packages (from httpx<1,>=0.23.0->langsmith<0.4,>=0.1.125->langchain-community) (1.0.3)\n",
      "Requirement already satisfied: idna in /Users/irisliu/anaconda3/lib/python3.10/site-packages (from httpx<1,>=0.23.0->langsmith<0.4,>=0.1.125->langchain-community) (3.4)\n",
      "Requirement already satisfied: sniffio in /Users/irisliu/anaconda3/lib/python3.10/site-packages (from httpx<1,>=0.23.0->langsmith<0.4,>=0.1.125->langchain-community) (1.2.0)\n",
      "Requirement already satisfied: h11<0.15,>=0.13 in /Users/irisliu/anaconda3/lib/python3.10/site-packages (from httpcore==1.*->httpx<1,>=0.23.0->langsmith<0.4,>=0.1.125->langchain-community) (0.14.0)\n",
      "Requirement already satisfied: annotated-types>=0.6.0 in /Users/irisliu/anaconda3/lib/python3.10/site-packages (from pydantic<3.0.0,>=2.7.4->langchain<1.0.0,>=0.3.25->langchain-community) (0.7.0)\n",
      "Requirement already satisfied: pydantic-core==2.33.2 in /Users/irisliu/anaconda3/lib/python3.10/site-packages (from pydantic<3.0.0,>=2.7.4->langchain<1.0.0,>=0.3.25->langchain-community) (2.33.2)\n",
      "Requirement already satisfied: typing-inspection>=0.4.0 in /Users/irisliu/anaconda3/lib/python3.10/site-packages (from pydantic<3.0.0,>=2.7.4->langchain<1.0.0,>=0.3.25->langchain-community) (0.4.0)\n",
      "Requirement already satisfied: python-dotenv>=0.21.0 in /Users/irisliu/anaconda3/lib/python3.10/site-packages (from pydantic-settings<3.0.0,>=2.4.0->langchain-community) (1.0.0)\n",
      "Requirement already satisfied: urllib3<1.27,>=1.21.1 in /Users/irisliu/anaconda3/lib/python3.10/site-packages (from requests<3,>=2->langchain-community) (1.26.14)\n",
      "Requirement already satisfied: mypy-extensions>=0.3.0 in /Users/irisliu/anaconda3/lib/python3.10/site-packages (from typing-inspect<1,>=0.4.0->dataclasses-json<0.7,>=0.5.7->langchain-community) (0.4.3)\n",
      "Requirement already satisfied: langgraph-checkpoint>=2.0.26 in /Users/irisliu/anaconda3/lib/python3.10/site-packages (from langgraph) (2.0.26)\n",
      "Requirement already satisfied: langgraph-prebuilt>=0.2.0 in /Users/irisliu/anaconda3/lib/python3.10/site-packages (from langgraph) (0.2.2)\n",
      "Requirement already satisfied: langgraph-sdk>=0.1.42 in /Users/irisliu/anaconda3/lib/python3.10/site-packages (from langgraph) (0.1.70)\n",
      "Requirement already satisfied: xxhash>=3.5.0 in /Users/irisliu/anaconda3/lib/python3.10/site-packages (from langgraph) (3.5.0)\n",
      "Requirement already satisfied: anthropic<1,>=0.52.0 in /Users/irisliu/anaconda3/lib/python3.10/site-packages (from langchain-anthropic) (0.52.1)\n",
      "Requirement already satisfied: distro<2,>=1.7.0 in /Users/irisliu/anaconda3/lib/python3.10/site-packages (from anthropic<1,>=0.52.0->langchain-anthropic) (1.9.0)\n",
      "Requirement already satisfied: jiter<1,>=0.4.0 in /Users/irisliu/anaconda3/lib/python3.10/site-packages (from anthropic<1,>=0.52.0->langchain-anthropic) (0.10.0)\n",
      "Requirement already satisfied: tiktoken>=0.5.1 in /Users/irisliu/anaconda3/lib/python3.10/site-packages (from tavily-python) (0.9.0)\n",
      "Collecting aiosqlite>=0.20 (from langgraph-checkpoint-sqlite)\n",
      "  Using cached aiosqlite-0.21.0-py3-none-any.whl.metadata (4.3 kB)\n",
      "Collecting sqlite-vec>=0.1.6 (from langgraph-checkpoint-sqlite)\n",
      "  Downloading sqlite_vec-0.1.6-py3-none-macosx_11_0_arm64.whl.metadata (198 bytes)\n",
      "Requirement already satisfied: ormsgpack<2.0.0,>=1.8.0 in /Users/irisliu/anaconda3/lib/python3.10/site-packages (from langgraph-checkpoint>=2.0.26->langgraph) (1.10.0)\n",
      "Requirement already satisfied: regex>=2022.1.18 in /Users/irisliu/anaconda3/lib/python3.10/site-packages (from tiktoken>=0.5.1->tavily-python) (2022.7.9)\n",
      "Downloading tavily_python-0.7.3-py3-none-any.whl (15 kB)\n",
      "Downloading langgraph_checkpoint_sqlite-2.0.10-py3-none-any.whl (30 kB)\n",
      "Using cached aiosqlite-0.21.0-py3-none-any.whl (15 kB)\n",
      "Downloading sqlite_vec-0.1.6-py3-none-macosx_11_0_arm64.whl (165 kB)\n",
      "\u001b[33mWARNING: Error parsing dependencies of omegaconf: .* suffix can only be used with `==` or `!=` operators\n",
      "    PyYAML (>=5.1.*)\n",
      "            ~~~~~~^\u001b[0m\u001b[33m\n",
      "\u001b[0mInstalling collected packages: sqlite-vec, aiosqlite, tavily-python, langgraph-checkpoint-sqlite\n",
      "\u001b[2K   \u001b[90m━━━━━━━━━━━━━━━━━━━━━━━━━━━━━━━━━━━━━━━━\u001b[0m \u001b[32m4/4\u001b[0m [langgraph-checkpoint-sqlite]checkpoint-sqlite]\n",
      "\u001b[1A\u001b[2KSuccessfully installed aiosqlite-0.21.0 langgraph-checkpoint-sqlite-2.0.10 sqlite-vec-0.1.6 tavily-python-0.7.3\n",
      "Note: you may need to restart the kernel to use updated packages.\n"
     ]
    }
   ],
   "source": [
    "pip install -U langchain-community langgraph langchain-anthropic tavily-python langgraph-checkpoint-sqlite"
   ]
  },
  {
   "cell_type": "code",
   "execution_count": 7,
   "id": "f58862c8",
   "metadata": {},
   "outputs": [
    {
     "name": "stdout",
     "output_type": "stream",
     "text": [
      "········\n"
     ]
    }
   ],
   "source": [
    "import getpass\n",
    "import os\n",
    "\n",
    "os.environ[\"LANGSMITH_TRACING\"] = \"true\"\n",
    "os.environ[\"LANGSMITH_API_KEY\"] = getpass.getpass()"
   ]
  },
  {
   "cell_type": "code",
   "execution_count": 8,
   "id": "2a7843a1",
   "metadata": {},
   "outputs": [
    {
     "name": "stdout",
     "output_type": "stream",
     "text": [
      "········\n"
     ]
    }
   ],
   "source": [
    "import getpass\n",
    "import os\n",
    "\n",
    "os.environ[\"TAVILY_API_KEY\"] = getpass.getpass()"
   ]
  },
  {
   "cell_type": "code",
   "execution_count": 9,
   "id": "9504f02c",
   "metadata": {},
   "outputs": [
    {
     "name": "stdout",
     "output_type": "stream",
     "text": [
      "[{'title': 'Monday, June 2, 2025. San Francisco, CA - Weather Forecast', 'url': 'https://weathershogun.com/weather/usa/ca/san-francisco/480/june/2025-06-02', 'content': 'San Francisco, California Weather: Monday, June 2, 2025. Cloudy weather, overcast skies with clouds. Day 63°. Night 52°. Precipitation 25 %.', 'score': 0.95100147}, {'title': 'Weather in San Francisco in February 2025 (California)', 'url': 'https://world-weather.info/forecast/usa/san_francisco/february-2025/', 'content': '*   [6 +59°+46°](https://world-weather.info/forecast/usa/san_francisco/06-february/)\\n*   [7 +55°+52°](https://world-weather.info/forecast/usa/san_francisco/07-february/)\\n*   [8 +55°+46°](https://world-weather.info/forecast/usa/san_francisco/08-february/)\\n*   [9 +55°+45°](https://world-weather.info/forecast/usa/san_francisco/09-february/)\\n*   [10 +55°+43°](https://world-weather.info/forecast/usa/san_francisco/10-february/) [...] Average weather in February 2025\\n--------------------------------\\n\\n5 days\\n\\nPrecipitation\\n\\n12 days\\n\\nCloudy\\n\\n11 days\\n\\nSunny\\n\\nDay\\n\\n+59\\n\\n°F\\n\\nNight\\n\\n+50\\n\\n°F\\n\\nCompare with another month\\n\\nExtended weather forecast in San Francisco\\n------------------------------------------ [...] *   [26 +68°+48°](https://world-weather.info/forecast/usa/san_francisco/26-february/)\\n*   [27 +70°+50°](https://world-weather.info/forecast/usa/san_francisco/27-february/)\\n*   [28 +66°+54°](https://world-weather.info/forecast/usa/san_francisco/28-february/)', 'score': 0.91175514}]\n"
     ]
    }
   ],
   "source": [
    "from langchain_community.tools.tavily_search import TavilySearchResults\n",
    "\n",
    "search = TavilySearchResults(max_results=2)\n",
    "search_results = search.invoke(\"what is the weather in SF\")\n",
    "print(search_results)\n",
    "# If we want, we can create other tools.\n",
    "# Once we have all the tools we want, we can put them in a list that we will reference later.\n",
    "tools = [search]"
   ]
  },
  {
   "cell_type": "code",
   "execution_count": 10,
   "id": "5e3d871a",
   "metadata": {},
   "outputs": [
    {
     "name": "stdout",
     "output_type": "stream",
     "text": [
      "\u001b[33mWARNING: Error parsing dependencies of omegaconf: .* suffix can only be used with `==` or `!=` operators\n",
      "    PyYAML (>=5.1.*)\n",
      "            ~~~~~~^\u001b[0m\u001b[33m\n",
      "\u001b[0m\u001b[31mERROR: pip's dependency resolver does not currently take into account all the packages that are installed. This behaviour is the source of the following dependency conflicts.\n",
      "streamlit 1.26.0 requires numpy<2,>=1.19.3, but you have numpy 2.2.6 which is incompatible.\n",
      "streamlit 1.26.0 requires protobuf<5,>=3.20, but you have protobuf 6.31.1 which is incompatible.\u001b[0m\u001b[31m\n",
      "\u001b[0mNote: you may need to restart the kernel to use updated packages.\n"
     ]
    }
   ],
   "source": [
    "pip install -qU \"langchain[google-genai]\""
   ]
  },
  {
   "cell_type": "code",
   "execution_count": 11,
   "id": "cc88344c",
   "metadata": {},
   "outputs": [
    {
     "name": "stdout",
     "output_type": "stream",
     "text": [
      "Enter API key for OpenAI: ········\n"
     ]
    }
   ],
   "source": [
    "import getpass\n",
    "import os\n",
    "\n",
    "if not os.environ.get(\"OPENAI_API_KEY\"):\n",
    "  os.environ[\"OPENAI_API_KEY\"] = getpass.getpass(\"Enter API key for OpenAI: \")\n",
    "\n",
    "from langchain.chat_models import init_chat_model\n",
    "\n",
    "model = init_chat_model(\"gpt-4\", model_provider=\"openai\")"
   ]
  },
  {
   "cell_type": "code",
   "execution_count": 12,
   "id": "651ed18e",
   "metadata": {},
   "outputs": [
    {
     "data": {
      "text/plain": [
       "'Hello! How can I assist you today?'"
      ]
     },
     "execution_count": 12,
     "metadata": {},
     "output_type": "execute_result"
    }
   ],
   "source": [
    "from langchain_core.messages import HumanMessage\n",
    "\n",
    "response = model.invoke([HumanMessage(content=\"hi!\")])\n",
    "response.content"
   ]
  },
  {
   "cell_type": "code",
   "execution_count": 13,
   "id": "5b3a815b",
   "metadata": {},
   "outputs": [],
   "source": [
    "model_with_tools = model.bind_tools(tools)"
   ]
  },
  {
   "cell_type": "code",
   "execution_count": 14,
   "id": "dd58b73d",
   "metadata": {},
   "outputs": [
    {
     "name": "stdout",
     "output_type": "stream",
     "text": [
      "ContentString: Hello! How can I assist you today?\n",
      "\n",
      "ToolCalls: []\n"
     ]
    }
   ],
   "source": [
    "response = model_with_tools.invoke([HumanMessage(content=\"Hi!\")])\n",
    "\n",
    "print(f\"ContentString: {response.content}\")\n",
    "print(f\"ToolCalls: {response.tool_calls}\")"
   ]
  },
  {
   "cell_type": "code",
   "execution_count": 15,
   "id": "a3593740",
   "metadata": {},
   "outputs": [
    {
     "name": "stdout",
     "output_type": "stream",
     "text": [
      "ContentString: \n",
      "ToolCalls: [{'name': 'tavily_search_results_json', 'args': {'query': 'current weather in San Francisco'}, 'id': 'call_B34LVPM9E52YbTRgCIk6AjLE', 'type': 'tool_call'}]\n"
     ]
    }
   ],
   "source": [
    "response = model_with_tools.invoke([HumanMessage(content=\"What's the weather in SF?\")])\n",
    "\n",
    "print(f\"ContentString: {response.content}\")\n",
    "print(f\"ToolCalls: {response.tool_calls}\")"
   ]
  },
  {
   "cell_type": "code",
   "execution_count": 16,
   "id": "af1a3fd3",
   "metadata": {},
   "outputs": [],
   "source": [
    "from langgraph.prebuilt import create_react_agent\n",
    "\n",
    "agent_executor = create_react_agent(model, tools)"
   ]
  },
  {
   "cell_type": "code",
   "execution_count": 17,
   "id": "a7f3b7a4",
   "metadata": {},
   "outputs": [
    {
     "data": {
      "text/plain": [
       "[HumanMessage(content='hi!', additional_kwargs={}, response_metadata={}, id='cca23801-c95c-4045-97fd-e5d6d27b83b3'),\n",
       " AIMessage(content='Hello! How can I assist you today?', additional_kwargs={'refusal': None}, response_metadata={'token_usage': {'completion_tokens': 10, 'prompt_tokens': 83, 'total_tokens': 93, 'completion_tokens_details': {'accepted_prediction_tokens': 0, 'audio_tokens': 0, 'reasoning_tokens': 0, 'rejected_prediction_tokens': 0}, 'prompt_tokens_details': {'audio_tokens': 0, 'cached_tokens': 0}}, 'model_name': 'gpt-4-0613', 'system_fingerprint': None, 'id': 'chatcmpl-BdqXAhU4CPcTX2C3MNZ4tRaC5fUNR', 'service_tier': 'default', 'finish_reason': 'stop', 'logprobs': None}, id='run--d4275484-2f11-41ae-9270-6f45e63ecc07-0', usage_metadata={'input_tokens': 83, 'output_tokens': 10, 'total_tokens': 93, 'input_token_details': {'audio': 0, 'cache_read': 0}, 'output_token_details': {'audio': 0, 'reasoning': 0}})]"
      ]
     },
     "execution_count": 17,
     "metadata": {},
     "output_type": "execute_result"
    }
   ],
   "source": [
    "response = agent_executor.invoke({\"messages\": [HumanMessage(content=\"hi!\")]})\n",
    "\n",
    "response[\"messages\"]"
   ]
  },
  {
   "cell_type": "code",
   "execution_count": 18,
   "id": "b439ad00",
   "metadata": {},
   "outputs": [
    {
     "data": {
      "text/plain": [
       "[HumanMessage(content='whats the weather in sf?', additional_kwargs={}, response_metadata={}, id='30e0e5b0-4956-479a-b358-2904e18c87e1'),\n",
       " AIMessage(content=\"Sorry, I can't provide real-time information like current weather updates. You can check the weather on a reliable website or app such as the National Weather Service, BBC Weather, or a local news website.\", additional_kwargs={'refusal': None}, response_metadata={'token_usage': {'completion_tokens': 42, 'prompt_tokens': 88, 'total_tokens': 130, 'completion_tokens_details': {'accepted_prediction_tokens': 0, 'audio_tokens': 0, 'reasoning_tokens': 0, 'rejected_prediction_tokens': 0}, 'prompt_tokens_details': {'audio_tokens': 0, 'cached_tokens': 0}}, 'model_name': 'gpt-4-0613', 'system_fingerprint': None, 'id': 'chatcmpl-BdqXV3V3ywIBexpJni0KckD3Ww4k5', 'service_tier': 'default', 'finish_reason': 'stop', 'logprobs': None}, id='run--8722696d-5a40-4fd6-a4ec-2ffce3de3794-0', usage_metadata={'input_tokens': 88, 'output_tokens': 42, 'total_tokens': 130, 'input_token_details': {'audio': 0, 'cache_read': 0}, 'output_token_details': {'audio': 0, 'reasoning': 0}})]"
      ]
     },
     "execution_count": 18,
     "metadata": {},
     "output_type": "execute_result"
    }
   ],
   "source": [
    "response = agent_executor.invoke(\n",
    "    {\"messages\": [HumanMessage(content=\"whats the weather in sf?\")]}\n",
    ")\n",
    "response[\"messages\"]"
   ]
  },
  {
   "cell_type": "code",
   "execution_count": 19,
   "id": "bc6d7cdf",
   "metadata": {},
   "outputs": [
    {
     "name": "stdout",
     "output_type": "stream",
     "text": [
      "================================\u001b[1m Human Message \u001b[0m=================================\n",
      "\n",
      "whats the weather in sf?\n",
      "==================================\u001b[1m Ai Message \u001b[0m==================================\n",
      "Tool Calls:\n",
      "  tavily_search_results_json (call_PX24fbGFvBJnwey6BhaKDLyg)\n",
      " Call ID: call_PX24fbGFvBJnwey6BhaKDLyg\n",
      "  Args:\n",
      "    query: current weather in San Francisco\n",
      "=================================\u001b[1m Tool Message \u001b[0m=================================\n",
      "Name: tavily_search_results_json\n",
      "\n",
      "[{\"title\": \"Monday, June 2, 2025. San Francisco, CA - Weather Forecast\", \"url\": \"https://weathershogun.com/weather/usa/ca/san-francisco/480/june/2025-06-02\", \"content\": \"San Francisco, California Weather: Monday, June 2, 2025. Cloudy weather, overcast skies with clouds. Day 63°. Night 52°. Precipitation 25 %.\", \"score\": 0.92343384}, {\"title\": \"February 2025 Weather History in San Francisco California, United ...\", \"url\": \"https://weatherspark.com/h/m/557/2025/2/Historical-Weather-in-February-2025-in-San-Francisco-California-United-States\", \"content\": \"| [Thu, Feb 6](/h/d/557/2025/2/6/Historical-Weather-on-Thursday-February-6-2025-in-San-Francisco-California-United-States#Sections-ObservedWeather) | Heavy Rain, Rain, Light Rain, Mist | 0.67 in | +RA, RA, -RA, BR |\\n| [Fri, Feb 7](/h/d/557/2025/2/7/Historical-Weather-on-Friday-February-7-2025-in-San-Francisco-California-United-States#Sections-ObservedWeather) | Light Rain | 0.06 in | -RA | [...] 6](/h/d/557/2025/2/6/Historical-Weather-on-Thursday-February-6-2025-in-San-Francisco-California-United-States#Sections-ObservedWeather) | Heavy Rain, Rain, Light Rain, Mist | 0.67 in | +RA, RA, -RA, BR | | [Fri, Feb 7](/h/d/557/2025/2/7/Historical-Weather-on-Friday-February-7-2025-in-San-Francisco-California-United-States#Sections-ObservedWeather) | Light Rain | 0.06 in | -RA | | [Tue, Feb [...] Observed Weather in February 2025 in San Francisco181522112233445566778899101011111212131314141515161617171818191920202121222223232424252526262727282812 AM12 AM3 AM3 AM6 AM6 AM9 AM9 AM12 PM12 PM3 PM3 PM6 PM6 PM9 PM9 PM12 AM12 AMJanMar  *fog**haze**drizzle**light rain**moderate rain**heavy rain**freezing rain**sleet**snow grains**light snow**moderate snow**heavy snow**hail**thunderstorm*  The hourly observed weather, color coded by category (in order of severity). If multiple reports are\", \"score\": 0.85157084}]\n",
      "==================================\u001b[1m Ai Message \u001b[0m==================================\n",
      "\n",
      "The current weather in San Francisco is cloudy with overcast skies. The daytime temperature is around 63°F and it drops to about 52°F at night. There's a 25% chance of precipitation. [Source](https://weathershogun.com/weather/usa/ca/san-francisco/480/june/2025-06-02)\n"
     ]
    }
   ],
   "source": [
    "for step in agent_executor.stream(\n",
    "    {\"messages\": [HumanMessage(content=\"whats the weather in sf?\")]},\n",
    "    stream_mode=\"values\",\n",
    "):\n",
    "    step[\"messages\"][-1].pretty_print()"
   ]
  },
  {
   "cell_type": "code",
   "execution_count": 20,
   "id": "4cb02871",
   "metadata": {},
   "outputs": [
    {
     "name": "stdout",
     "output_type": "stream",
     "text": [
      "The| current| weather| in| San| Francisco| is| cloudy| with| over|cast| skies|.| The| temperature| is| around| |65|°F| during| the| day| and| it| will| drop| to| around| |52|°F| at| night|.| There| is| a| |25|%| chance| of| precipitation|.| [|source|](|https|://|we|athers|hog|un|.com|/weather|/|usa|/ca|/s|an|-fr|anc|isco|/|480|/j|une|/|202|5|-|06|-|02|)|"
     ]
    }
   ],
   "source": [
    " for step, metadata in agent_executor.stream(\n",
    "    {\"messages\": [HumanMessage(content=\"whats the weather in sf?\")]},\n",
    "    stream_mode=\"messages\",\n",
    "):\n",
    "    if metadata[\"langgraph_node\"] == \"agent\" and (text := step.text()):\n",
    "        print(text, end=\"|\")"
   ]
  },
  {
   "cell_type": "code",
   "execution_count": 21,
   "id": "5e2dd61c",
   "metadata": {},
   "outputs": [],
   "source": [
    "from langgraph.checkpoint.memory import MemorySaver\n",
    "\n",
    "memory = MemorySaver()"
   ]
  },
  {
   "cell_type": "code",
   "execution_count": 22,
   "id": "956f2b02",
   "metadata": {},
   "outputs": [],
   "source": [
    "agent_executor = create_react_agent(model, tools, checkpointer=memory)\n",
    "\n",
    "config = {\"configurable\": {\"thread_id\": \"abc123\"}}"
   ]
  },
  {
   "cell_type": "code",
   "execution_count": 23,
   "id": "8ff00202",
   "metadata": {},
   "outputs": [
    {
     "name": "stdout",
     "output_type": "stream",
     "text": [
      "{'agent': {'messages': [AIMessage(content='Hello Bob! How can I assist you today?', additional_kwargs={'refusal': None}, response_metadata={'token_usage': {'completion_tokens': 11, 'prompt_tokens': 85, 'total_tokens': 96, 'completion_tokens_details': {'accepted_prediction_tokens': 0, 'audio_tokens': 0, 'reasoning_tokens': 0, 'rejected_prediction_tokens': 0}, 'prompt_tokens_details': {'audio_tokens': 0, 'cached_tokens': 0}}, 'model_name': 'gpt-4-0613', 'system_fingerprint': None, 'id': 'chatcmpl-BdqZWjWqB9uQEW3LovUvo2iSa7G3h', 'service_tier': 'default', 'finish_reason': 'stop', 'logprobs': None}, id='run--8e44ab39-ca42-4cb4-87aa-e0933739281c-0', usage_metadata={'input_tokens': 85, 'output_tokens': 11, 'total_tokens': 96, 'input_token_details': {'audio': 0, 'cache_read': 0}, 'output_token_details': {'audio': 0, 'reasoning': 0}})]}}\n",
      "----\n"
     ]
    }
   ],
   "source": [
    "for chunk in agent_executor.stream(\n",
    "    {\"messages\": [HumanMessage(content=\"hi im bob!\")]}, config\n",
    "):\n",
    "    print(chunk)\n",
    "    print(\"----\")"
   ]
  },
  {
   "cell_type": "code",
   "execution_count": 24,
   "id": "dd035885",
   "metadata": {},
   "outputs": [
    {
     "name": "stdout",
     "output_type": "stream",
     "text": [
      "{'agent': {'messages': [AIMessage(content=\"As an AI, I don't have access to personal data about individuals unless it has been shared with me in the course of our conversation. I am designed to respect user privacy and confidentiality. So, I don't know your name.\", additional_kwargs={'refusal': None}, response_metadata={'token_usage': {'completion_tokens': 48, 'prompt_tokens': 86, 'total_tokens': 134, 'completion_tokens_details': {'accepted_prediction_tokens': 0, 'audio_tokens': 0, 'reasoning_tokens': 0, 'rejected_prediction_tokens': 0}, 'prompt_tokens_details': {'audio_tokens': 0, 'cached_tokens': 0}}, 'model_name': 'gpt-4-0613', 'system_fingerprint': None, 'id': 'chatcmpl-BdqZtsltCE7mXXAEsJ85FGnL5WLGM', 'service_tier': 'default', 'finish_reason': 'stop', 'logprobs': None}, id='run--a0aa247a-5ffb-44df-bddd-e56574282f3b-0', usage_metadata={'input_tokens': 86, 'output_tokens': 48, 'total_tokens': 134, 'input_token_details': {'audio': 0, 'cache_read': 0}, 'output_token_details': {'audio': 0, 'reasoning': 0}})]}}\n",
      "----\n"
     ]
    }
   ],
   "source": [
    "config = {\"configurable\": {\"thread_id\": \"xyz123\"}}\n",
    "for chunk in agent_executor.stream(\n",
    "    {\"messages\": [HumanMessage(content=\"whats my name?\")]}, config\n",
    "):\n",
    "    print(chunk)\n",
    "    print(\"----\")"
   ]
  },
  {
   "cell_type": "code",
   "execution_count": null,
   "id": "d388e764",
   "metadata": {},
   "outputs": [],
   "source": []
  }
 ],
 "metadata": {
  "kernelspec": {
   "display_name": "Python 3 (ipykernel)",
   "language": "python",
   "name": "python3"
  },
  "language_info": {
   "codemirror_mode": {
    "name": "ipython",
    "version": 3
   },
   "file_extension": ".py",
   "mimetype": "text/x-python",
   "name": "python",
   "nbconvert_exporter": "python",
   "pygments_lexer": "ipython3",
   "version": "3.10.9"
  }
 },
 "nbformat": 4,
 "nbformat_minor": 5
}
